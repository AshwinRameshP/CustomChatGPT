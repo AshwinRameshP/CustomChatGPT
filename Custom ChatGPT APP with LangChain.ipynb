{
 "cells": [
  {
   "cell_type": "markdown",
   "id": "dc608542",
   "metadata": {},
   "source": [
    "# Custom ChatGPT App with LangChain"
   ]
  },
  {
   "cell_type": "code",
   "execution_count": 2,
   "id": "96816ff6",
   "metadata": {},
   "outputs": [
    {
     "data": {
      "text/plain": [
       "True"
      ]
     },
     "execution_count": 2,
     "metadata": {},
     "output_type": "execute_result"
    }
   ],
   "source": [
    "from dotenv import load_dotenv, find_dotenv\n",
    "load_dotenv(find_dotenv(), override = True)"
   ]
  },
  {
   "cell_type": "code",
   "execution_count": 3,
   "id": "73f7147b",
   "metadata": {},
   "outputs": [
    {
     "name": "stdout",
     "output_type": "stream",
     "text": [
      "Your prompt: quit\n",
      "Goodbye!\n"
     ]
    }
   ],
   "source": [
    "from dotenv import load_dotenv, find_dotenv\n",
    "load_dotenv(find_dotenv(), override=True) \n",
    "\n",
    "from langchain_openai import ChatOpenAI\n",
    "from langchain.schema import SystemMessage\n",
    "from langchain.chains import LLMChain\n",
    "from langchain.prompts import ChatPromptTemplate, HumanMessagePromptTemplate\n",
    "\n",
    "\n",
    "llm = ChatOpenAI(model_name='gpt-3.5-turbo', temperature=1)\n",
    "\n",
    "prompt = ChatPromptTemplate(\n",
    "    input_variables=[\"content\"],\n",
    "    messages=[\n",
    "#         SystemMessage(content=\"You are a chatbot having a conversation with a human.\"),\n",
    "        SystemMessage(content='You respond only in German.'),\n",
    "        HumanMessagePromptTemplate.from_template(\"{content}\")\n",
    "    ]\n",
    ")\n",
    "\n",
    "chain = LLMChain(\n",
    "    llm=llm,\n",
    "    prompt=prompt,\n",
    "    verbose=True\n",
    ")\n",
    "\n",
    "while True:\n",
    "    content = input('Your prompt: ')\n",
    "    if content.lower() in ['quit', 'exit', 'bye']:\n",
    "        print('Goodbye!')\n",
    "        break\n",
    "    \n",
    "    response = chain.invoke({'content': content})\n",
    "    print(response)\n",
    "    print('-' * 50)\n",
    "    "
   ]
  },
  {
   "cell_type": "markdown",
   "id": "239a4d25",
   "metadata": {},
   "source": [
    "#  Adding Chat Memory Using ConversationBufferMemory"
   ]
  },
  {
   "cell_type": "code",
   "execution_count": 4,
   "id": "5cf47212",
   "metadata": {},
   "outputs": [
    {
     "name": "stdout",
     "output_type": "stream",
     "text": [
      "Your prompt: \n",
      "{'content': '', 'chat_history': [HumanMessage(content=''), AIMessage(content='Hello! How can I assist you today?')], 'text': 'Hello! How can I assist you today?'}\n",
      "--------------------------------------------------\n",
      "Your prompt: \n",
      "{'content': '', 'chat_history': [HumanMessage(content=''), AIMessage(content='Hello! How can I assist you today?'), HumanMessage(content=''), AIMessage(content='Hello there! How can I help you today?')], 'text': 'Hello there! How can I help you today?'}\n",
      "--------------------------------------------------\n",
      "Your prompt: What is earth mass?\n",
      "{'content': 'What is earth mass?', 'chat_history': [HumanMessage(content=''), AIMessage(content='Hello! How can I assist you today?'), HumanMessage(content=''), AIMessage(content='Hello there! How can I help you today?'), HumanMessage(content='What is earth mass?'), AIMessage(content=\"The Earth's mass refers to the total amount of material that makes up the Earth, including its core, mantle, and crust. The mass of the Earth is roughly 5.97 x 10^24 kilograms, or about 6 trillion trillion kilograms. It is an important factor in understanding the Earth's gravitational pull and its interactions with other celestial bodies in the solar system.\")], 'text': \"The Earth's mass refers to the total amount of material that makes up the Earth, including its core, mantle, and crust. The mass of the Earth is roughly 5.97 x 10^24 kilograms, or about 6 trillion trillion kilograms. It is an important factor in understanding the Earth's gravitational pull and its interactions with other celestial bodies in the solar system.\"}\n",
      "--------------------------------------------------\n",
      "Your prompt: quit\n",
      "Goodbye!\n"
     ]
    }
   ],
   "source": [
    "from dotenv import load_dotenv, find_dotenv\n",
    "load_dotenv(find_dotenv(), override=False) \n",
    "\n",
    "from langchain_openai import ChatOpenAI\n",
    "from langchain.schema import SystemMessage\n",
    "from langchain.chains import LLMChain\n",
    "\n",
    "# 1. Imports\n",
    "from langchain.memory import ConversationBufferMemory\n",
    "from langchain.prompts import ChatPromptTemplate, HumanMessagePromptTemplate, MessagesPlaceholder\n",
    "\n",
    "\n",
    "llm = ChatOpenAI(model_name='gpt-3.5-turbo', temperature=1)\n",
    "\n",
    "# 2. Create memory \n",
    "memory = ConversationBufferMemory(\n",
    "    memory_key='chat_history',\n",
    "    return_messages=True\n",
    ")\n",
    "\n",
    "# 3. add  MessagesPlaceholder(variable_name='messages') to the prompt\n",
    "prompt = ChatPromptTemplate(\n",
    "    input_variables=[\"content\", \"chat_history\"],\n",
    "    messages=[\n",
    "        SystemMessage(content=\"You are a chatbot having a conversation with a human.\"),\n",
    "        MessagesPlaceholder(variable_name=\"chat_history\"), # Where the memory will be stored.\n",
    "        HumanMessagePromptTemplate.from_template(\"{content}\")\n",
    "    ]\n",
    ")\n",
    "\n",
    "# 4. Add the memory to the chain\n",
    "chain = LLMChain(\n",
    "    llm=llm,\n",
    "    prompt=prompt,\n",
    "    memory=memory,\n",
    "    verbose=False\n",
    ")\n",
    "\n",
    "while True:\n",
    "    content = input('Your prompt: ')\n",
    "    if content.lower() in ['quit', 'exit', 'bye']:\n",
    "        print('Goodbye!')\n",
    "        break\n",
    "    \n",
    "    response = chain.invoke({'content': content})\n",
    "    print(response)\n",
    "    print('-' * 50)\n",
    "    "
   ]
  },
  {
   "cell_type": "markdown",
   "id": "ac3e9b81",
   "metadata": {},
   "source": [
    "Saving Chat Sessions"
   ]
  },
  {
   "cell_type": "code",
   "execution_count": 1,
   "id": "ddbe9153",
   "metadata": {},
   "outputs": [
    {
     "name": "stdout",
     "output_type": "stream",
     "text": [
      "Your prompt: \n",
      "{'content': '', 'chat_history': [], 'text': 'Hello! How are you today?'}\n",
      "--------------------------------------------------\n",
      "Your prompt: \n",
      "{'content': '', 'chat_history': [HumanMessage(content=''), AIMessage(content='Hello! How are you today?')], 'text': 'If you have any questions or need assistance, feel free to ask!'}\n",
      "--------------------------------------------------\n",
      "Your prompt: ashwin here youa are?\n",
      "{'content': 'ashwin here youa are?', 'chat_history': [HumanMessage(content=''), AIMessage(content='Hello! How are you today?'), HumanMessage(content=''), AIMessage(content='If you have any questions or need assistance, feel free to ask!')], 'text': \"I'm here! How can I assist you today?\"}\n",
      "--------------------------------------------------\n",
      "Your prompt: What model are you gpt\n",
      "{'content': 'What model are you gpt', 'chat_history': [HumanMessage(content=''), AIMessage(content='Hello! How are you today?'), HumanMessage(content=''), AIMessage(content='If you have any questions or need assistance, feel free to ask!'), HumanMessage(content='ashwin here youa are?'), AIMessage(content=\"I'm here! How can I assist you today?\")], 'text': 'I am a simplified version of GPT-3, a state-of-the-art language processing model created by OpenAI. How can I help you today?'}\n",
      "--------------------------------------------------\n",
      "Your prompt: quit\n",
      "Goodbye!\n"
     ]
    }
   ],
   "source": [
    "from dotenv import load_dotenv, find_dotenv\n",
    "load_dotenv(find_dotenv(), override=False) \n",
    "\n",
    "from langchain_openai import ChatOpenAI\n",
    "from langchain.schema import SystemMessage\n",
    "from langchain.chains import LLMChain\n",
    "\n",
    "# 1. Import FileChatMessageHistory\n",
    "from langchain.memory import ConversationBufferMemory, FileChatMessageHistory\n",
    "\n",
    "from langchain.prompts import ChatPromptTemplate, HumanMessagePromptTemplate, MessagesPlaceholder\n",
    "\n",
    "llm = ChatOpenAI(model_name='gpt-3.5-turbo', temperature=1)\n",
    "\n",
    "# 2. Add an additional keyword argument to the ConversationBufferMemory() constructor\n",
    "history = FileChatMessageHistory('chat_history.json')\n",
    "memory = ConversationBufferMemory(\n",
    "    memory_key='chat_history',\n",
    "    chat_memory=history,\n",
    "    return_messages=True\n",
    ")\n",
    "\n",
    "prompt = ChatPromptTemplate(\n",
    "    input_variables=[\"content\", \"chat_history\"],\n",
    "    messages=[\n",
    "        SystemMessage(content=\"You are a chatbot having a conversation with a human.\"),\n",
    "        MessagesPlaceholder(variable_name=\"chat_history\"), \n",
    "        HumanMessagePromptTemplate.from_template(\"{content}\")\n",
    "    ]\n",
    ")\n",
    "\n",
    "chain = LLMChain(\n",
    "    llm=llm,\n",
    "    prompt=prompt,\n",
    "    memory=memory,\n",
    "    verbose=False\n",
    ")\n",
    "\n",
    "while True:\n",
    "    content = input('Your prompt: ')\n",
    "    if content.lower() in ['quit', 'exit', 'bye']:\n",
    "        print('Goodbye!')\n",
    "        break\n",
    "    \n",
    "    response = chain.invoke({'content': content})\n",
    "    print(response)\n",
    "    print('-' * 50)\n",
    "    "
   ]
  },
  {
   "cell_type": "code",
   "execution_count": 5,
   "id": "af0aa3db",
   "metadata": {},
   "outputs": [
    {
     "name": "stdout",
     "output_type": "stream",
     "text": [
      "[HumanMessage(content=''), AIMessage(content='Hello! How are you today?'), HumanMessage(content=''), AIMessage(content='If you have any questions or need assistance, feel free to ask!'), HumanMessage(content='ashwin here youa are?'), AIMessage(content=\"I'm here! How can I assist you today?\"), HumanMessage(content='What model are you gpt'), AIMessage(content='I am a simplified version of GPT-3, a state-of-the-art language processing model created by OpenAI. How can I help you today?')]\n"
     ]
    }
   ],
   "source": [
    "# The messages property contains the list of messages in order.\n",
    "print(history.messages)"
   ]
  },
  {
   "cell_type": "code",
   "execution_count": null,
   "id": "a419589d",
   "metadata": {},
   "outputs": [],
   "source": []
  }
 ],
 "metadata": {
  "kernelspec": {
   "display_name": "Python 3 (ipykernel)",
   "language": "python",
   "name": "python3"
  },
  "language_info": {
   "codemirror_mode": {
    "name": "ipython",
    "version": 3
   },
   "file_extension": ".py",
   "mimetype": "text/x-python",
   "name": "python",
   "nbconvert_exporter": "python",
   "pygments_lexer": "ipython3",
   "version": "3.9.13"
  }
 },
 "nbformat": 4,
 "nbformat_minor": 5
}
